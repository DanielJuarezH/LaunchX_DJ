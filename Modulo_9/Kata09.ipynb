{
 "cells": [
  {
   "cell_type": "markdown",
   "metadata": {},
   "source": [
    "# Kata 09"
   ]
  },
  {
   "cell_type": "markdown",
   "metadata": {},
   "source": [
    "## Ejercicio 1"
   ]
  },
  {
   "cell_type": "code",
   "execution_count": 16,
   "metadata": {},
   "outputs": [],
   "source": [
    "def fuel_report (tank1, tank2, tank3): \n",
    "    averager_fuel = (tank1 + tank2 + tank3) / 3\n",
    "    return f'''Fuel Report: \n",
    "    Average fuel: {averager_fuel}\n",
    "    Tank 1: {tank1}\n",
    "    Tank 2: {tank2}\n",
    "    Tank 3: {tank3}'''\n",
    "    \n"
   ]
  },
  {
   "cell_type": "code",
   "execution_count": 17,
   "metadata": {},
   "outputs": [
    {
     "name": "stdout",
     "output_type": "stream",
     "text": [
      "Fuel Report: \n",
      "    Average fuel: 53.333333333333336\n",
      "    Tank 1: 50\n",
      "    Tank 2: 90\n",
      "    Tank 3: 20\n"
     ]
    }
   ],
   "source": [
    "print (fuel_report(50, 90,20))"
   ]
  },
  {
   "cell_type": "markdown",
   "metadata": {},
   "source": [
    "## Ejercicio 2"
   ]
  },
  {
   "cell_type": "code",
   "execution_count": 18,
   "metadata": {},
   "outputs": [
    {
     "name": "stdout",
     "output_type": "stream",
     "text": [
      "Prelaunch time 12\n",
      "    Flight time 894 hours\n",
      "    Destination MArs\n",
      "    Fuel in external tank 200L\n",
      "    Fuel in internal tank 500L\n"
     ]
    }
   ],
   "source": [
    "def mission_report (prelaunch_time, flight_time, destination, external_fueltank, internal_fuel_tank):\n",
    "    return f'''Prelaunch time {prelaunch_time}\n",
    "    Flight time {flight_time} hours\n",
    "    Destination {destination}\n",
    "    Fuel in external tank {external_fueltank}L\n",
    "    Fuel in internal tank {internal_fuel_tank}L'''\n",
    "print (mission_report(12, 894, \"MArs\", 200, 500))\n"
   ]
  }
 ],
 "metadata": {
  "interpreter": {
   "hash": "aee8b7b246df8f9039afb4144a1f6fd8d2ca17a180786b69acc140d282b71a49"
  },
  "kernelspec": {
   "display_name": "Python 3.10.2 64-bit",
   "language": "python",
   "name": "python3"
  },
  "language_info": {
   "codemirror_mode": {
    "name": "ipython",
    "version": 3
   },
   "file_extension": ".py",
   "mimetype": "text/x-python",
   "name": "python",
   "nbconvert_exporter": "python",
   "pygments_lexer": "ipython3",
   "version": "3.10.2"
  },
  "orig_nbformat": 4
 },
 "nbformat": 4,
 "nbformat_minor": 2
}
