{
 "cells": [
  {
   "cell_type": "markdown",
   "metadata": {},
   "source": [
    "# Ejercicio 1"
   ]
  },
  {
   "cell_type": "code",
   "execution_count": 30,
   "metadata": {},
   "outputs": [
    {
     "name": "stdout",
     "output_type": "stream",
     "text": [
      "Alerta!!! Se acerca un asteroide a: 26km/s, busque refugio inmediatamente\n"
     ]
    }
   ],
   "source": [
    "velocidad_asteroide = 26\n",
    "if velocidad_asteroide >= 25:\n",
    "    print(\"Alerta!!! Se acerca un asteroide a: \" + str(velocidad_asteroide) + \"km/s\" + \", busque refugio inmediatamente\")\n",
    "else: \n",
    "    print(\"todo bien no hay asteroides\")"
   ]
  },
  {
   "cell_type": "markdown",
   "metadata": {},
   "source": [
    "# Ejercicio 2"
   ]
  },
  {
   "cell_type": "code",
   "execution_count": 12,
   "metadata": {},
   "outputs": [
    {
     "name": "stdout",
     "output_type": "stream",
     "text": [
      "Bienvenido al programa alerta de asteroides\n",
      "Asteroide cercano, si ve un rayo de luz en el cielo quiere decir que un asteroide ha entrado en la atmosfera\n"
     ]
    }
   ],
   "source": [
    "print(\"Bienvenido al programa alerta de asteroides\")\n",
    "velocidad = 26\n",
    "if velocidad > 20:\n",
    "    print(\"Asteroide cercano, si ve un rayo de luz en el cielo quiere decir que un asteroide ha entrado en la atmosfera\")\n",
    "elif velocidad ==20:\n",
    "    print(\"Asteroide cercano, si ve un rayo de luz en el cielo quiere decir que un asteroide ha entrado en la atmosfera\")\n",
    "else: \n",
    "    print(\"todo bien\")"
   ]
  },
  {
   "cell_type": "markdown",
   "metadata": {},
   "source": [
    "# Ejercicio 3"
   ]
  },
  {
   "cell_type": "code",
   "execution_count": 56,
   "metadata": {},
   "outputs": [
    {
     "name": "stdout",
     "output_type": "stream",
     "text": [
      "Asteroide cercano, si ve un rayo de luz en el cielo quiere decir que un asteroide ha entrado en la atmosfera\n"
     ]
    }
   ],
   "source": [
    "speed = 21\n",
    "size = 21\n",
    "\n",
    "if size >= 25 and speed >=20:\n",
    "        print(\"Un gran asteroide se acerca, dano inminente\")\n",
    "elif speed >= 20:\n",
    "        print(\"Asteroide cercano, si ve un rayo de luz en el cielo quiere decir que un asteroide ha entrado en la atmosfera\")\n",
    "elif size <25:\n",
    "        print(\"todo bien\")\n",
    "elif size >=25:\n",
    "        print(\"gran asteroide acercandose lentamente\")\n",
    "else:\n",
    "    print(\"todo bien\")\n"
   ]
  }
 ],
 "metadata": {
  "interpreter": {
   "hash": "aee8b7b246df8f9039afb4144a1f6fd8d2ca17a180786b69acc140d282b71a49"
  },
  "kernelspec": {
   "display_name": "Python 3.10.2 64-bit",
   "language": "python",
   "name": "python3"
  },
  "language_info": {
   "codemirror_mode": {
    "name": "ipython",
    "version": 3
   },
   "file_extension": ".py",
   "mimetype": "text/x-python",
   "name": "python",
   "nbconvert_exporter": "python",
   "pygments_lexer": "ipython3",
   "version": "3.10.2"
  },
  "orig_nbformat": 4
 },
 "nbformat": 4,
 "nbformat_minor": 2
}
