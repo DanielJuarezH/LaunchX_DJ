{
 "cells": [
  {
   "cell_type": "markdown",
   "metadata": {},
   "source": [
    "# Kata 04"
   ]
  },
  {
   "cell_type": "markdown",
   "metadata": {},
   "source": [
    "# Ejercicio 1"
   ]
  },
  {
   "cell_type": "code",
   "execution_count": 3,
   "metadata": {},
   "outputs": [
    {
     "data": {
      "text/plain": [
       "['interesting facts about the moon',\n",
       " \"the moon is earth's only satellite\",\n",
       " 'there are several interesting facts about the moon and how it affects life here on earth',\n",
       " 'on average, the moon moves 4cm away from the earth every year',\n",
       " 'this yearly drift is not significant enough to cause immediate effects on earth',\n",
       " 'the highest daylight temperature of the moon is 127 c.']"
      ]
     },
     "execution_count": 3,
     "metadata": {},
     "output_type": "execute_result"
    }
   ],
   "source": [
    "text = \"\"\"Interesting facts about the Moon. The Moon is Earth's only satellite. There are several interesting facts about the Moon and how it affects life here on Earth. On average, the Moon moves 4cm away from the Earth every year. This yearly drift is not significant enough to cause immediate effects on Earth. The highest daylight temperature of the Moon is 127 C.\"\"\" .lower()\n",
    "text_formated = text.split('. ')\n",
    "text_formated\n",
    "\n"
   ]
  },
  {
   "cell_type": "code",
   "execution_count": 4,
   "metadata": {},
   "outputs": [],
   "source": [
    "keywords = [\"average\", \"temperature\", \"distance\"]"
   ]
  },
  {
   "cell_type": "code",
   "execution_count": 7,
   "metadata": {},
   "outputs": [
    {
     "name": "stdout",
     "output_type": "stream",
     "text": [
      "on average, the moon moves 4cm away from the earth every year\n",
      "the highest daylight temperature of the moon is 127 c.\n"
     ]
    }
   ],
   "source": [
    "for data in text_formated:\n",
    "    for data_luna in keywords:\n",
    "        if data_luna in data:\n",
    "            print (data)  \n",
    "            break\n"
   ]
  },
  {
   "cell_type": "code",
   "execution_count": 10,
   "metadata": {},
   "outputs": [
    {
     "name": "stdout",
     "output_type": "stream",
     "text": [
      "on average, the moon moves 4celciusm away from the earth every year\n",
      "the highest daylight temperature of the moon is 127 celcius.\n"
     ]
    }
   ],
   "source": [
    "for data in text_formated:\n",
    "    for data_luna in keywords:\n",
    "        if data_luna in data:\n",
    "            print (data .replace(\"c\",\"celcius\") )  \n",
    "            break"
   ]
  },
  {
   "cell_type": "markdown",
   "metadata": {},
   "source": [
    "# Ejercicio 2"
   ]
  },
  {
   "cell_type": "code",
   "execution_count": 26,
   "metadata": {},
   "outputs": [],
   "source": [
    "# Datos con los que vas a trabajar\n",
    "name = \"Moon\"\n",
    "gravity = 0.00162 # in kms\n",
    "planet = \"Earth\""
   ]
  },
  {
   "cell_type": "code",
   "execution_count": 41,
   "metadata": {},
   "outputs": [
    {
     "data": {
      "text/plain": [
       "'Gravity Facts About Moon'"
      ]
     },
     "execution_count": 41,
     "metadata": {},
     "output_type": "execute_result"
    }
   ],
   "source": [
    "header = f'Gravity Facts About {name}'\n",
    "header.title()"
   ]
  },
  {
   "cell_type": "code",
   "execution_count": 42,
   "metadata": {},
   "outputs": [
    {
     "name": "stdout",
     "output_type": "stream",
     "text": [
      "\n",
      "------------------------------------\n",
      "Planet Name: Earth\n",
      "Gravity On Moon: 1.6199999999999999\n",
      "\n"
     ]
    }
   ],
   "source": [
    "gravitym = gravity * 1000\n",
    "\n",
    "template = f\"\"\"\n",
    "{\"------------------------------------\"}\n",
    "Planet Name: {planet}\n",
    "Gravity On {name}: {gravitym}\n",
    "\"\"\"\n",
    "print (template)"
   ]
  },
  {
   "cell_type": "code",
   "execution_count": 43,
   "metadata": {},
   "outputs": [
    {
     "name": "stdout",
     "output_type": "stream",
     "text": [
      "Gravity Facts About Moon\n",
      "------------------------------------\n",
      "Planet Name: Earth\n",
      "Gravity On Moon: 1.6199999999999999\n",
      "\n"
     ]
    }
   ],
   "source": [
    "print (header.title() + template)"
   ]
  },
  {
   "cell_type": "code",
   "execution_count": 46,
   "metadata": {},
   "outputs": [],
   "source": [
    "# Datos muestra 2\n",
    "planet = 'Marte '\n",
    "gravity  = 0.00143\n",
    "name = 'Ganímedes'"
   ]
  },
  {
   "cell_type": "code",
   "execution_count": 47,
   "metadata": {},
   "outputs": [
    {
     "name": "stdout",
     "output_type": "stream",
     "text": [
      "\n",
      "------------------------------------\n",
      "Planet Name: Earth\n",
      "Gravity On Moon: 1.6199999999999999\n",
      "\n"
     ]
    }
   ],
   "source": [
    "print (template)\n"
   ]
  }
 ],
 "metadata": {
  "interpreter": {
   "hash": "aee8b7b246df8f9039afb4144a1f6fd8d2ca17a180786b69acc140d282b71a49"
  },
  "kernelspec": {
   "display_name": "Python 3.10.2 64-bit",
   "language": "python",
   "name": "python3"
  },
  "language_info": {
   "codemirror_mode": {
    "name": "ipython",
    "version": 3
   },
   "file_extension": ".py",
   "mimetype": "text/x-python",
   "name": "python",
   "nbconvert_exporter": "python",
   "pygments_lexer": "ipython3",
   "version": "3.10.2"
  },
  "orig_nbformat": 4
 },
 "nbformat": 4,
 "nbformat_minor": 2
}
